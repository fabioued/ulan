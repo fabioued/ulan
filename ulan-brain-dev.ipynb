{
 "metadata": {
  "name": ""
 },
 "nbformat": 3,
 "nbformat_minor": 0,
 "worksheets": [
  {
   "cells": [
    {
     "cell_type": "code",
     "collapsed": false,
     "input": [
      "with open('QDATA','r') as QDATA:\n",
      "    QDATA = QDATA.readlines()\n",
      "\n",
      "with open('ADATA', 'r') as ADATA:\n",
      "    ADATA = ADATA.readlines()\n",
      "\n",
      "exception = 'Question:'\n",
      "\n",
      "def remove(data, target):\n",
      "    QUEST = []\n",
      "\n",
      "    try:\n",
      "        # split text\n",
      "        # assume target in data\n",
      "        # if not return error :P\n",
      "        for item in data:\n",
      "          item.split().remove(target)\n",
      "          QUEST.append(item) \n",
      "        \n",
      "        return QUEST\n",
      "\n",
      "    except (IndexError, ValueError, Exception) as e:\n",
      "        print e\n",
      "\n",
      "FDATA_Q = remove(QDATA, exception)\n",
      "\n",
      "print FDATA_Q"
     ],
     "language": "python",
     "metadata": {},
     "outputs": [
      {
       "output_type": "stream",
       "stream": "stdout",
       "text": [
        "['Question: yulannn, boleh kenalan ? \\n', 'Question: follback kami gak ? *asahgolok*\\n', 'Question: gak akan kenal do, kamu orang mana\\n', 'Question: PAP your silly face!\\n', 'Question: salam kenal yah ;)\\n', 'Question: rancak nyo laii :G\\n', 'Question: YA ALLAH, AYOK KAK BELI POP ES AYOOOKK \\n', 'Question: short desc me\\n', 'Question: Pertahanin untuk selalu pakai jilbab nya ya ka :)\\n', 'Question: Something unforgettable about me\\n', 'Question: Moodboster kamu selama puasa?\\n', 'Question: Lan\\n', 'Question: Gimana solat terawihnya? padet?\\n', 'Question: hey cantik, malam minggu kemana??\\n', 'Question: Assalamualaikum:))\\n', 'Question: haha sebenarnya aku tau siapa pcr kamu\\n', 'Question: kaka udh punya pcr??\\n', 'Question: pacar kamu siapa?\\n', 'Question: ka pertanyaanku kok ngga dijawab jawaaaaaab????????????\\n', 'Question: Wish kamu dihari ulangtahunmu?\\n', 'Question: Kamu suka pria yang seperti apa?\\n', 'Question: ngerasa punya haters?\\n', 'Question: belajaar\\n', 'Question: ciee udah lulus, lanjut kemana sist?\\n', 'Question: apa kegiatanmu belakangan ini qaqaa..?\\n', 'Question: pap sama someone special dong kakaa\\n', \"Question: lan '-')/\\n\", 'Question: follback :)\\n', 'Question: ciri khasnya si..\\n', 'Question: haha JK nyo kakak canteeks:$\\n', 'Question: hihi:$ ambilah haa kak, pande emangnya? heheh :D\\n', 'Question: Hahaha iyasih kak~ peluk kesayangan juga lah *peluk PS* =D\\n', 'Question: Hahahaa iyaaaw kak :D SWAG ajalah^^\\n', 'Question: hahaha lagi cari teman alergi satnite:v\\n', 'Question: ada yang alergi satnite? :D\\n', 'Question: Jones yaak? Ciaan :p\\n', 'Question: Apakah kamu mengharapkan hujan malam nanti?\\n', 'Question: Hello canteeks=D\\n', 'Question: jiah.. emang bisa pap diisni ?? ask ketempatku lah lan\\n', 'Question: Apakah kamu suka rambut pendek atau rambut panjang?\\n', 'Question: air laut lan? belom pernah liat air laut kan? :v\\n', 'Question: haha ulan mau apa?\\n', 'Question: hehe pulsaku habis lan, sorry gak ngasih kabar\\n', 'Question: Apa yang dapat memperbaiki suasana hatimu yang buruk?\\n', 'Question: ulan follback\\n', 'Question: Rencana kamu hari ini?\\n', 'Question: holiday kemana kak?\\n', 'Question: temen yg lagi kakak kangenin siapa?\\n', 'Question: malam minggu kemana nih kak?\\n', 'Question: Pap muka konyol kakak sama cowok kakak?\\n', 'Question: Ulan ni gitu:(\\n', 'Question: temenan? :(\\n', 'Question: N yg lagi dekat sama kamu?\\n', 'Question: apakah kamu punya perasaan dengan cowok inisial N?\\n', 'Question: sebutkan inisial nama pacarmu\\n', 'Question: kalo istirahat biasanya ngapain?\\n', 'Question: pernah ikut comunitas dance?\\n', 'Question: BF kamu siapa?\\n', 'Question: Apa yang kamu inginkan sekarang?\\n', 'Question: inisial yang kamu sukai sekarang?\\n', 'Question: pernah dapet kado special apa dari someone?\\n', 'Question: kalo suntuk biasanya kamu ngapain?\\n', 'Question: follback kak :)\\n', 'Question: followback laaahhhhhh\\n', 'Question: yulaaannn punya ask!!!!!\\n', 'Question: Siapa Laki-laki yg kamu harap dekat lagi denganmu?\\n', 'Question: Si indah?\\n', 'Question: Loh emang kakak dimana?\\n', 'Question: Makanya jangan main main ke hutan wkwk haa ompong? Pap lah si indah kaaaak, masih ingat ndak tu dia sama wirda?\\n', 'Question: Iihh, ga enak tuu :( rawat inap kak?\\n', 'Question: Sakit apaaa?!\\n', 'Question: Apa kabar kak ulaaaaaan? Micuu ;(\\n', 'Question: Haaaaaiiiiiii\\n', 'Question: Apakah kamu sudah sembuh?\\n', 'Question: Siapa cowo yg kamu suka di tempatmu belajar?\\n', 'Question: lagu apa yang paling kamu suka? o.O\\n', 'Question: follback lan\\n', 'Question: Tipe cowok yang bagaimana yang kamu suka?\\n', 'Question: Apakah kamu mengenal pria bernama Ozi?\\n', 'Question: Apakah kamu pernah di tembak cowok dalam waktu dekat ini?\\n', 'Question: Apakah anda ingin memiliki pasangan untuk saat ini?\\n', 'Question: Apa konser terakhir yang kamu datangi?\\n', 'Question: anda suka di foto ga???\\n', 'Question: Pria seperti apa yang anda cari?\\n', 'Question: apa anda suka lagu warmness on the soul?\\n', 'Question: hahaha... udah lama gk kepoin kmu lan.....ayo dong kak pap nya :P\\n', 'Question: mau dong kak, biar galau aku hilang :( pap lagi ngupil aja deh\\n', 'Question: kirain akunya yg dibilang cantik :( kak pap lagi dong ,tapi lagi khayang :)\\n', 'Question: jadi ini apa kalau bukan barbie ?\\n', 'Question: ih makasih kak udah dibilang cantik :p \\n', 'Question: itu film apa kak\\n', 'Question: apa ini barbie yang jatuh dari awan ?\\n', 'Question: Pap dong kak lagi apa\\n', 'Question: Jadi, Arief Rivaldo adalah pria yang anda taksir ?\\n', 'Question: Pertanyaan buat aku mana?\\n', 'Question: Lihat ke cermin. Apa yang kamu lihat?\\n', 'Question: Lagu apa yang menggambarkan harimu saat ini?\\n', 'Question: Si Sana bilang aku ganteng. :D\\n', 'Question: itu avatar kamu, kan ada 2 orangnya... kamu yang kiri apa kanan ? atau yang di belakang x_X\\n', 'Question: kamu yang kanan apa kiri ?\\n', 'Question: kamu hacker ya?\\n', 'Question: Pertanyaan apa yang tak ingin kau jawab? =))\\n', 'Question: 150331 itu apa ya ?\\n', \"Question: double 'Y' suka nonton bolakah??\\n\", 'Question: Hari apakah hari tersibukmu dalam seminggu?\\n', 'Question: Itu yg di foto profil kamu apaan ya??\\n', 'Question: Follow dong \\xe2\\x80\\x8e@\\n', 'Question: Enaknya makan siang itu apa ya?? *perut sudah bunyi2\\n', 'Question: kira kira siapa artis yg mirip ama kamu?\\n', 'Question: Apa yang kamu rindukan?\\n', 'Question: kamu suka kpop ngga?\\n', 'Question: Apa kabar kaak? Sudah bulan puasa loh kak, miss you ;(\\n', 'Question: Haiiii kaaakkk uuuulllaaaaaannn!!! :***\\n', 'Question: Apa yang akan kamu lakukan jika bertemu dengan alien?\\n', 'Question: Apa kamu suka menari?\\n', 'Question: Barang apa yang terakhir kamu beli?\\n', 'Question: Apa mata pelajaran yang paling kamu sukai di sekolah?\\n', 'Question: Warna apa yang paling sering kamu pakai?\\n', 'Question: Kenapa langit berwarna biru?\\n', 'Question: Ehm... Lahir di Arab, besar di Arab, tapi nggak bisa bahasa Arab. Apa coba? :D\\n', 'Question: Apakah hal pertama yang ada dalam pikiranmu pagi ini?\\n', 'Question: Apakah sebaiknya kita banyak membaca buku?\\n', 'Question: Kamu lebih suka memberi atau menerima?\\n', 'Question: Apa objek yang paling menarik di ruangan kamu?\\n', 'Question: Kenapa Ulan Jomblo?\\n', 'Question: follback\\n', 'Question: follback\\n', 'Question: bagaimana perasaanmu hari ini?\\n', 'Question: follback me ?please\\n', 'Question: Apa yang ingin Anda lakukan di akhir pekan?\\n', 'Question: Film apa yang membuatmu menangis?\\n', 'Question: Usia berapakah yang terbaik untuk menikah?\\n', 'Question: Apakah kamu mengumpulkan sesuatu? Jika ya, apa itu?\\n', 'Question: Kapan pertama kali kamu jatuh cinta?\\n', 'Question: Bagaimana kamu ingin merayakan ulang tahunmu?\\n', 'Question: Negara mana sajakah yang ingin kamu kunjungi jika kamu keliling dunia?\\n', 'Question: Apa yang dapat memperbaiki suasana hatimu yang buruk?\\n', 'Question: Apa lagu tema film favoritmu?\\n', 'Question: Hal apa yang ingin kamu hindari dalam suatu hubungan?\\n', 'Question: Bagaimana perasaanmu sekarang?\\n', \"Question: kalo gt ganti pertanya'an deehh.. apa ada yg namanya roby yg kamu suka..??\\n\", 'Question: Jika kamu dapat memainkan alat musik, alat apakah itu?\\n', 'Question: apakah kamu suka dg org yg bernama roby?\\n', 'Question: Kapan pertama kali kamu jatuh cinta?\\n', 'Question: Apa kamu suka menari?\\n', 'Question: Apakah kamu udah pengen cepet2 lulus skolah\\n', 'Question: Saat kamu bersedih, apa yang dapat menghiburmu?\\n', 'Question: Bagaimanakah tampilan wajahmu saat bangun di pagi hari?\\n', 'Question: pernah berantem gak kak waktu sd?\\n', 'Question: Jika kamu punya satu keinginan, apa yang kamu inginkan?\\n', 'Question: Hari apakah hari tersibukmu dalam seminggu?\\n', 'Question: Jika di rumahmu mati lampu, apa yang langsung membuatmu merasa kehilangan?\\n', 'Question: Apa rasa es krim favoritmu?\\n', 'Question: Apa kamu suka atau tidak suka makanan pedas?\\n', 'Question: Apa hal pertama yang kamu lakukan saat bangun pagi ini?\\n', 'Question: Apakah kamu memiliki fobia?\\n', 'Question: follback yulan ;)\\n', 'Question: Apa yang membuatmu takut?\\n', 'Question: Apa yang kamu mimpikan semalam?\\n', 'Question: Apa tahun favoritmu?\\n', 'Question: Apakah kamu bermain game online?\\n', 'Question: Situs web apa yang kamu buka setiap hari?\\n', 'Question: Apa yang kamu lakukan kalau sulit tidur?\\n', 'Question: Barang apa yang terakhir kamu beli?\\n', 'Question: Saat kamu bersedih, apa yang dapat menghiburmu?\\n', 'Question: Apa saranmu bagi anak kecil saat ini?\\n', 'Question: Apakah kamu percaya bahwa mimpi terkadang bisa meramalkan masa depan?\\n', 'Question: Siapa guru favoritmu?\\n', 'Question: hahaha, mlah ngelawak.\\n', 'Question: hai.\\n', 'Question: Apakah Anda takut gelap?\\n', 'Question: Lagi apa lan ?\\n', 'Question: Kangen moment OSN, apalagi waktu jadi gembel, kekurung diluar :D\\n', 'Question: Lan, Ingat tak waktu OSN kemarin ?\\n', 'Question: Folbek ulan ;)\\n', 'Question: Apa yang membuatmu takut?\\n', 'Question: Siapa orang paling terkenal di negaramu?\\n', 'Question: Jika kamu memiliki uang sebesar Rp50 ribu tersisa di kantongmu, akan kamu beli apakah uang itu?\\n', 'Question: paling kangen sama siapa? (yg didurii) :p\\n', 'Question: Apa situs web jejaring sosial yang kamu gunakan?\\n', 'Question: Siapa orang yang telah Anda peluk hari ini?\\n', 'Question: Acara televisi apa yang paling kamu sukai?\\n', 'Question: Siapakah wanita yang paling cantik?\\n']\n"
       ]
      }
     ],
     "prompt_number": 6
    },
    {
     "cell_type": "code",
     "collapsed": false,
     "input": [],
     "language": "python",
     "metadata": {},
     "outputs": []
    }
   ],
   "metadata": {}
  }
 ]
}